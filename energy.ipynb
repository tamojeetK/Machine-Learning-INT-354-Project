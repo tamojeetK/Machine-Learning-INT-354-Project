{
 "cells": [
  {
   "attachments": {},
   "cell_type": "markdown",
   "metadata": {},
   "source": [
    "**Energy efficiency**"
   ]
  },
  {
   "cell_type": "code",
   "execution_count": 3,
   "metadata": {},
   "outputs": [],
   "source": [
    "# Importing the necessary\n",
    "import pandas as pd\n",
    "from sklearn.preprocessing import StandardScaler\n",
    "from sklearn.model_selection import train_test_split\n",
    "from sklearn.linear_model import LinearRegression\n",
    "from sklearn.tree import DecisionTreeRegressor\n",
    "from sklearn.ensemble import RandomForestRegressor\n",
    "from sklearn.metrics import r2_score, mean_squared_error"
   ]
  },
  {
   "cell_type": "code",
   "execution_count": 4,
   "metadata": {},
   "outputs": [
    {
     "name": "stdout",
     "output_type": "stream",
     "text": [
      "       X1     X2     X3      X4   X5  X6   X7  X8     Y1     Y2\n",
      "0    0.98  514.5  294.0  110.25  7.0   2  0.0   0  15.55  21.33\n",
      "1    0.98  514.5  294.0  110.25  7.0   3  0.0   0  15.55  21.33\n",
      "2    0.98  514.5  294.0  110.25  7.0   4  0.0   0  15.55  21.33\n",
      "3    0.98  514.5  294.0  110.25  7.0   5  0.0   0  15.55  21.33\n",
      "4    0.90  563.5  318.5  122.50  7.0   2  0.0   0  20.84  28.28\n",
      "..    ...    ...    ...     ...  ...  ..  ...  ..    ...    ...\n",
      "763  0.64  784.0  343.0  220.50  3.5   5  0.4   5  17.88  21.40\n",
      "764  0.62  808.5  367.5  220.50  3.5   2  0.4   5  16.54  16.88\n",
      "765  0.62  808.5  367.5  220.50  3.5   3  0.4   5  16.44  17.11\n",
      "766  0.62  808.5  367.5  220.50  3.5   4  0.4   5  16.48  16.61\n",
      "767  0.62  808.5  367.5  220.50  3.5   5  0.4   5  16.64  16.03\n",
      "\n",
      "[768 rows x 10 columns]\n"
     ]
    }
   ],
   "source": [
    "# Reading the dataset into a Pandas DataFrame\n",
    "url = \"https://archive.ics.uci.edu/ml/machine-learning-databases/00242/ENB2012_data.xlsx\"\n",
    "df = pd.read_excel(url)\n",
    "print(df)\n"
   ]
  },
  {
   "cell_type": "code",
   "execution_count": 5,
   "metadata": {},
   "outputs": [],
   "source": [
    "# Splitting the dataset into features (X) and target variable (y)\n",
    "X = df.iloc[:, :-2]\n",
    "y = df.iloc[:, -2:]"
   ]
  },
  {
   "cell_type": "code",
   "execution_count": 6,
   "metadata": {},
   "outputs": [],
   "source": [
    "# Splitting the data into training and testing sets\n",
    "X_train, X_test, y_train, y_test = train_test_split(X, y, test_size=0.2, random_state=42)\n"
   ]
  },
  {
   "cell_type": "code",
   "execution_count": 7,
   "metadata": {},
   "outputs": [
    {
     "name": "stdout",
     "output_type": "stream",
     "text": [
      "Best Hyperparameters: {'max_depth': 10, 'max_features': 'sqrt', 'min_samples_leaf': 1, 'min_samples_split': 2, 'n_estimators': 100}\n",
      "Best Score: 0.9822579628606253\n"
     ]
    }
   ],
   "source": [
    "# Scaling the features using StandardScaler\n",
    "from sklearn.model_selection import GridSearchCV\n",
    "\n",
    "\n",
    "scaler = StandardScaler()\n",
    "X_train_scaled = scaler.fit_transform(X_train)\n",
    "X_test_scaled = scaler.transform(X_test)\n",
    "\n",
    "# Defining the parameter grid for the Random Forest Regressor\n",
    "param_grid = {\n",
    "    'n_estimators': [50, 100, 200],\n",
    "    'max_depth': [5, 10, 20],\n",
    "    'min_samples_split': [2, 4, 8],\n",
    "    'min_samples_leaf': [1, 2, 4],\n",
    "    'max_features': [None, 'sqrt', 'log2']\n",
    "}\n",
    "\n",
    "# Creating a Random Forest Regressor object\n",
    "rf = RandomForestRegressor(random_state=42)\n",
    "\n",
    "# Creating a GridSearchCV object to search over the parameter grid\n",
    "rf_cv = GridSearchCV(estimator=rf, param_grid=param_grid, cv=5)\n",
    "\n",
    "# Fitting the GridSearchCV object to the training data\n",
    "rf_cv.fit(X_train_scaled, y_train)\n",
    "\n",
    "# Making predictions on the testing data using the best model\n",
    "rf_y_pred = rf_cv.predict(X_test_scaled)\n",
    "\n",
    "# Computing the R-squared and RMSE of the predictions\n",
    "rf_r2 = r2_score(y_test, rf_y_pred)\n",
    "rf_rmse = mean_squared_error(y_test, rf_y_pred, squared=False)\n",
    "\n",
    "# Printing the best hyperparameters and corresponding score\n",
    "print(\"Best Hyperparameters:\", rf_cv.best_params_)\n",
    "print(\"Best Score:\", rf_cv.best_score_)"
   ]
  },
  {
   "cell_type": "code",
   "execution_count": 8,
   "metadata": {},
   "outputs": [
    {
     "name": "stdout",
     "output_type": "stream",
     "text": [
      "       X1     X2     X3      X4   X5  X6    X7  X8\n",
      "60   0.82  612.5  318.5  147.00  7.0   2  0.10   1\n",
      "618  0.64  784.0  343.0  220.50  3.5   4  0.40   2\n",
      "346  0.86  588.0  294.0  147.00  7.0   4  0.25   2\n",
      "294  0.90  563.5  318.5  122.50  7.0   4  0.25   1\n",
      "231  0.66  759.5  318.5  220.50  3.5   5  0.10   4\n",
      "..    ...    ...    ...     ...  ...  ..   ...  ..\n",
      "71   0.76  661.5  416.5  122.50  7.0   5  0.10   1\n",
      "106  0.86  588.0  294.0  147.00  7.0   4  0.10   2\n",
      "270  0.71  710.5  269.5  220.50  3.5   4  0.10   5\n",
      "435  0.98  514.5  294.0  110.25  7.0   5  0.25   4\n",
      "102  0.90  563.5  318.5  122.50  7.0   4  0.10   2\n",
      "\n",
      "[614 rows x 8 columns]        X1     X2     X3      X4   X5  X6    X7  X8\n",
      "668  0.62  808.5  367.5  220.50  3.5   2  0.40   3\n",
      "324  0.66  759.5  318.5  220.50  3.5   2  0.25   1\n",
      "624  0.98  514.5  294.0  110.25  7.0   2  0.40   3\n",
      "690  0.79  637.0  343.0  147.00  7.0   4  0.40   4\n",
      "473  0.64  784.0  343.0  220.50  3.5   3  0.25   4\n",
      "..    ...    ...    ...     ...  ...  ..   ...  ..\n",
      "355  0.79  637.0  343.0  147.00  7.0   5  0.25   2\n",
      "534  0.90  563.5  318.5  122.50  7.0   4  0.40   1\n",
      "344  0.86  588.0  294.0  147.00  7.0   2  0.25   2\n",
      "296  0.86  588.0  294.0  147.00  7.0   2  0.25   1\n",
      "462  0.71  710.5  269.5  220.50  3.5   4  0.25   4\n",
      "\n",
      "[154 rows x 8 columns]         Y1     Y2\n",
      "60   23.53  27.31\n",
      "618  18.90  22.09\n",
      "346  29.27  29.90\n",
      "294  32.84  32.71\n",
      "231  11.43  14.83\n",
      "..     ...    ...\n",
      "71   32.21  33.67\n",
      "106  26.33  27.36\n",
      "270  10.67  14.26\n",
      "435  28.62  30.12\n",
      "102  28.83  29.36\n",
      "\n",
      "[614 rows x 2 columns]         Y1     Y2\n",
      "668  16.47  16.90\n",
      "324  13.17  16.39\n",
      "624  32.82  32.78\n",
      "690  41.32  46.23\n",
      "473  16.69  19.76\n",
      "..     ...    ...\n",
      "355  38.98  45.97\n",
      "534  36.66  35.92\n",
      "344  29.34  33.37\n",
      "296  29.54  33.98\n",
      "462  12.17  15.20\n",
      "\n",
      "[154 rows x 2 columns]\n"
     ]
    }
   ],
   "source": [
    "print(X_train, X_test, y_train, y_test)"
   ]
  },
  {
   "cell_type": "code",
   "execution_count": null,
   "metadata": {},
   "outputs": [],
   "source": []
  },
  {
   "cell_type": "code",
   "execution_count": 9,
   "metadata": {},
   "outputs": [],
   "source": [
    "# Scaling the features using StandardScaler\n",
    "scaler = StandardScaler()\n",
    "X_train_scaled = scaler.fit_transform(X_train)\n",
    "X_test_scaled = scaler.transform(X_test)"
   ]
  },
  {
   "cell_type": "code",
   "execution_count": 10,
   "metadata": {},
   "outputs": [],
   "source": [
    "# Fitting a Linear Regression model\n",
    "lr = LinearRegression()\n",
    "lr.fit(X_train_scaled, y_train)\n",
    "lr_y_pred = lr.predict(X_test_scaled)\n",
    "lr_r2 = r2_score(y_test, lr_y_pred)\n",
    "lr_rmse = mean_squared_error(y_test, lr_y_pred, squared=False)"
   ]
  },
  {
   "cell_type": "code",
   "execution_count": 11,
   "metadata": {},
   "outputs": [],
   "source": [
    "# Fitting a Decision Tree Regression model\n",
    "dtr = DecisionTreeRegressor(random_state=42)\n",
    "dtr.fit(X_train_scaled, y_train)\n",
    "dtr_y_pred = dtr.predict(X_test_scaled)\n",
    "dtr_r2 = r2_score(y_test, dtr_y_pred)\n",
    "dtr_rmse = mean_squared_error(y_test, dtr_y_pred, squared=False)"
   ]
  },
  {
   "cell_type": "code",
   "execution_count": 12,
   "metadata": {},
   "outputs": [],
   "source": [
    "# Fitting a Random Forest Regression model\n",
    "rfr = RandomForestRegressor(random_state=42)\n",
    "rfr.fit(X_train_scaled, y_train)\n",
    "rfr_y_pred = rfr.predict(X_test_scaled)\n",
    "rfr_r2 = r2_score(y_test, rfr_y_pred)\n",
    "rfr_rmse = mean_squared_error(y_test, rfr_y_pred, squared=False)"
   ]
  },
  {
   "cell_type": "code",
   "execution_count": 13,
   "metadata": {},
   "outputs": [
    {
     "data": {
      "image/png": "[encoded data removed]",
      "text/plain": [
       "<Figure size 432x288 with 1 Axes>"
      ]
     },
     "metadata": {
      "needs_background": "light"
     },
     "output_type": "display_data"
    }
   ],
   "source": [
    "import matplotlib.pyplot as plt\n",
    "\n",
    "# Plotting the true values and predictions\n",
    "plt.scatter(y_test, rfr_y_pred)\n",
    "plt.xlabel('True Values')\n",
    "plt.ylabel('Predictions')\n",
    "plt.title('Random Forest Regressor Predictions vs True Values')\n",
    "plt.show()"
   ]
  },
  {
   "cell_type": "code",
   "execution_count": 14,
   "metadata": {},
   "outputs": [
    {
     "name": "stdout",
     "output_type": "stream",
     "text": [
      "Linear Regression R-squared: 0.9027050781479864\n",
      "Linear Regression RMSE: 3.0854044046608955\n",
      "Decision Tree Regression R-squared: 0.9688442994787589\n",
      "Decision Tree Regression RMSE: 1.4611130327541064\n",
      "Random Forest Regression R-squared: 0.9788225922996614\n",
      "Random Forest Regression RMSE: 1.2098005048864637\n"
     ]
    }
   ],
   "source": [
    "# Printing the R-squared and RMSE of each model\n",
    "print(\"Linear Regression R-squared:\", lr_r2)\n",
    "print(\"Linear Regression RMSE:\", lr_rmse)\n",
    "print(\"Decision Tree Regression R-squared:\", dtr_r2)\n",
    "print(\"Decision Tree Regression RMSE:\", dtr_rmse)\n",
    "print(\"Random Forest Regression R-squared:\", rfr_r2)\n",
    "print(\"Random Forest Regression RMSE:\", rfr_rmse)"
   ]
  },
  {
   "cell_type": "code",
   "execution_count": null,
   "metadata": {},
   "outputs": [],
   "source": []
  },
  {
   "cell_type": "markdown",
   "metadata": {},
   "source": []
  }
 ],
 "metadata": {
  "kernelspec": {
   "display_name": "base",
   "language": "python",
   "name": "python3"
  },
  "language_info": {
   "codemirror_mode": {
    "name": "ipython",
    "version": 3
   },
   "file_extension": ".py",
   "mimetype": "text/x-python",
   "name": "python",
   "nbconvert_exporter": "python",
   "pygments_lexer": "ipython3",
   "version": "3.9.12"
  },
  "orig_nbformat": 4
 },
 "nbformat": 4,
 "nbformat_minor": 2
}
